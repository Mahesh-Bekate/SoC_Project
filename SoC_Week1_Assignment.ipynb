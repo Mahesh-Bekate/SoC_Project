{
 "cells": [
  {
   "cell_type": "markdown",
   "id": "3b189327",
   "metadata": {},
   "source": [
    "# PART I (Warm-up) :"
   ]
  },
  {
   "cell_type": "markdown",
   "id": "004d43d9",
   "metadata": {},
   "source": [
    "Q1: Write a Python function that takes an array of integers as an argument and\n",
    "returns a new array containing only the odd numbers in the original array."
   ]
  },
  {
   "cell_type": "code",
   "execution_count": 21,
   "id": "bd8466e8",
   "metadata": {},
   "outputs": [],
   "source": [
    "def return_odd_numbers(num_arr):\n",
    "    odd_num_arr = []\n",
    "    for num in num_arr:\n",
    "        if num % 2 != 0:\n",
    "            odd_num_arr.append(num)\n",
    "    \n",
    "    return odd_num_arr"
   ]
  },
  {
   "cell_type": "markdown",
   "id": "145e6c0b",
   "metadata": {},
   "source": [
    "Q2: Create a class called Dog with attributes name and breed. Add a method called\n",
    "bark that prints a message with the dog's name and a barking sound."
   ]
  },
  {
   "cell_type": "code",
   "execution_count": 24,
   "id": "31ffb4e3",
   "metadata": {},
   "outputs": [],
   "source": [
    "class Dog:\n",
    "    def __init__(self, name, breed):\n",
    "        self.name = name\n",
    "        self.breed = breed\n",
    "        \n",
    "    def bark(self):\n",
    "        print(\"{}\".format(self.name),\"bow bow\")"
   ]
  },
  {
   "cell_type": "markdown",
   "id": "72fe9499",
   "metadata": {},
   "source": [
    "Q3. Write a Python program that creates a numpy array of 100 random integers\n",
    "between 0 and 100, and prints any 2 measures of central tendency and 2 measures\n",
    "of spread of the array."
   ]
  },
  {
   "cell_type": "code",
   "execution_count": 28,
   "id": "0f73c8af",
   "metadata": {},
   "outputs": [
    {
     "name": "stdout",
     "output_type": "stream",
     "text": [
      "[64 91 49 84 27 14 61 85 85  0 37 43 84 19 53 43 40 87 39 55 59 55 82 99\n",
      " 98 75 23 64 61 50 67 60 23  8  1 85 19 78 93 47 60 29  2 59 22 23 81  9\n",
      " 88 63 25  9 38 15 29 66 38 19 67  0 67 91 72 74 94 61  7 36 83 25 31 68\n",
      "  1 30 29 34  8 12  3 88 60 53 71  7 16  3 38 35 42 94 56 25  3 66 33  9\n",
      " 31 20 19 42]\n",
      "Here are two measures of central tendency of the array: \n",
      "Mean: 45.86\n",
      "Median: 42.5\n",
      " \n",
      "Here are two measures of spread of the array: \n",
      "Variance: 822.0604000000002\n",
      "Standard deviation: 28.671595700274516\n"
     ]
    }
   ],
   "source": [
    "import numpy as np\n",
    "\n",
    "int_arr = np.random.randint(0, 100, size = 100)\n",
    "\n",
    "print(int_arr)\n",
    "print(\"Here are two measures of central tendency of the array: \")\n",
    "print(\"Mean:\", np.mean(int_arr))\n",
    "print(\"Median:\", np.median(int_arr))\n",
    "print(\" \")\n",
    "print(\"Here are two measures of spread of the array: \")\n",
    "print(\"Variance:\", np.var(int_arr))\n",
    "print(\"Standard deviation:\", np.std(int_arr))"
   ]
  },
  {
   "cell_type": "markdown",
   "id": "4892ccbe",
   "metadata": {},
   "source": [
    "# PART II (Mandatory) :"
   ]
  },
  {
   "cell_type": "markdown",
   "id": "ccbe50fe",
   "metadata": {},
   "source": [
    "Q1. Create a class which defines an __init__ function that initializes the class\n",
    "attribute array. Define another function get_array which takes inputs for the\n",
    "length of the array and inputs all the elements, and returns its corresponding sorted\n",
    "array."
   ]
  },
  {
   "cell_type": "code",
   "execution_count": 29,
   "id": "ebeea3fa",
   "metadata": {},
   "outputs": [],
   "source": [
    "class Sort_arr:\n",
    "    def __init__(self):\n",
    "        self.arr = []\n",
    "        \n",
    "    def get_array(self, length):\n",
    "        for i in range(length):\n",
    "            self.arr.append(int(input(\"Enter element: \")))\n",
    "        \n",
    "        return sorted(self.arr)"
   ]
  },
  {
   "cell_type": "markdown",
   "id": "2675f34e",
   "metadata": {},
   "source": [
    "Q2.\n",
    "A. Create a 2D array of size 4*4 using list and perform the following\n",
    "operations:\n",
    "1. extract the diagonal elements from the array\n",
    "2. Find the trace of the Matrix\n",
    "3. Find the max and min element of each row in that matrix\n",
    "(Hint: convert that 2D list to Numpy Array to make the problem simple)"
   ]
  },
  {
   "cell_type": "code",
   "execution_count": 34,
   "id": "beef660f",
   "metadata": {},
   "outputs": [
    {
     "name": "stdout",
     "output_type": "stream",
     "text": [
      "[[ 1  2  3  4]\n",
      " [ 5  6  7  8]\n",
      " [ 9 10 11 12]\n",
      " [13 14 15 16]]\n",
      "Diagonal: [ 1  6 11 16]\n",
      "Trace: 34\n",
      "Max: [ 4  8 12 16]\n",
      "Min: [ 1  5  9 13]\n"
     ]
    }
   ],
   "source": [
    "import numpy as np\n",
    "\n",
    "arr_1 = [[1,2,3,4],\n",
    "         [5,6,7,8],\n",
    "         [9,10,11,12],\n",
    "         [13,14,15,16]]\n",
    "\n",
    "arr_1 = np.array(arr_1)\n",
    "\n",
    "print(arr_1)\n",
    "\n",
    "print(\"Diagonal: {}\".format(np.diag(arr_1)))\n",
    "\n",
    "print(\"Trace: {}\".format(np.trace(arr_1)))\n",
    "\n",
    "print(\"Max: {}\".format(np.max(arr_1, axis = 1)))\n",
    "\n",
    "print(\"Min: {}\".format(np.min(arr_1, axis = 1)))"
   ]
  },
  {
   "cell_type": "markdown",
   "id": "95e9b5eb",
   "metadata": {},
   "source": [
    "B. Create another 2D numpy array with shape (4, 5) where each element of the\n",
    "array is a random float between 0 and 1, inclusive, using numpy's uniform\n",
    "distribution function. Print the resulting numpy array."
   ]
  },
  {
   "cell_type": "code",
   "execution_count": 42,
   "id": "541bf9e5",
   "metadata": {},
   "outputs": [
    {
     "name": "stdout",
     "output_type": "stream",
     "text": [
      "[[0.54592277 0.3515684  0.49083216 0.18176726]\n",
      " [0.95678549 0.24191563 0.2358379  0.66366815]\n",
      " [0.41682439 0.92637453 0.52236534 0.25358299]\n",
      " [0.27661865 0.12295145 0.01128325 0.24504413]]\n"
     ]
    }
   ],
   "source": [
    "import numpy as np\n",
    "\n",
    "arr_2 = np.random.uniform(0, 1, size = (4, 4))\n",
    "\n",
    "print(arr_2)"
   ]
  },
  {
   "cell_type": "markdown",
   "id": "f7f8bf32",
   "metadata": {},
   "source": [
    "C. Multiply the numpy arrays created in Part A and Part B element-wise, and\n",
    "print the resulting numpy array."
   ]
  },
  {
   "cell_type": "code",
   "execution_count": 45,
   "id": "b3745546",
   "metadata": {
    "scrolled": true
   },
   "outputs": [
    {
     "name": "stdout",
     "output_type": "stream",
     "text": [
      "[[0.54592277 0.7031368  1.47249648 0.72706903]\n",
      " [4.78392744 1.45149379 1.65086529 5.30934522]\n",
      " [3.7514195  9.26374531 5.74601869 3.04299587]\n",
      " [3.5960424  1.72132035 0.16924878 3.92070607]]\n"
     ]
    }
   ],
   "source": [
    "import numpy as np\n",
    "\n",
    "arr_3 = arr_1 * arr_2\n",
    "\n",
    "print(arr_3)"
   ]
  },
  {
   "cell_type": "markdown",
   "id": "61946e49",
   "metadata": {},
   "source": [
    "Q3. Write a program that reads in the CSV file containing data on stock prices\n",
    "(including date, open price, high price, low price, closing price, and volume) and\n",
    "creates a pandas dataframe with the data. Then, use numpy to calculate the average\n",
    "closing price for each month and print the results."
   ]
  },
  {
   "cell_type": "code",
   "execution_count": 50,
   "id": "ce5a7bc4",
   "metadata": {},
   "outputs": [
    {
     "name": "stdout",
     "output_type": "stream",
     "text": [
      "Date\n",
      "2022-05-31    39.631111\n",
      "2022-06-30    39.171429\n",
      "2022-07-31    40.386000\n",
      "2022-08-31    38.048696\n",
      "2022-09-30    33.766667\n",
      "2022-10-31    30.941429\n",
      "2022-11-30    24.519524\n",
      "2022-12-31    26.083810\n",
      "2023-01-31    30.363000\n",
      "2023-02-28    32.954211\n",
      "2023-03-31    31.898696\n",
      "2023-04-30    28.615789\n",
      "2023-05-31    28.214000\n",
      "Freq: M, Name: Close, dtype: float64\n"
     ]
    }
   ],
   "source": [
    "import numpy as np\n",
    "import pandas as pd\n",
    "\n",
    "dataframe_pandas = pd.read_csv('Data - STOCK_US_XNYS_CSV.csv')\n",
    "\n",
    "dataframe_pandas['Date'] = pd.to_datetime(dataframe_pandas['Date'])\n",
    "\n",
    "dataframe_pandas.set_index('Date', inplace=True)\n",
    "\n",
    "print(dataframe_pandas.resample('M')['Close'].mean())"
   ]
  }
 ],
 "metadata": {
  "kernelspec": {
   "display_name": "Python 3 (ipykernel)",
   "language": "python",
   "name": "python3"
  },
  "language_info": {
   "codemirror_mode": {
    "name": "ipython",
    "version": 3
   },
   "file_extension": ".py",
   "mimetype": "text/x-python",
   "name": "python",
   "nbconvert_exporter": "python",
   "pygments_lexer": "ipython3",
   "version": "3.10.9"
  }
 },
 "nbformat": 4,
 "nbformat_minor": 5
}
